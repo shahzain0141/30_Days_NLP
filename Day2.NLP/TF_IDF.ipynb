{
  "nbformat": 4,
  "nbformat_minor": 0,
  "metadata": {
    "colab": {
      "provenance": []
    },
    "kernelspec": {
      "name": "python3",
      "display_name": "Python 3"
    },
    "language_info": {
      "name": "python"
    }
  },
  "cells": [
    {
      "cell_type": "markdown",
      "source": [
        "**Keyword extraction from videos either from Youtube or local device. List down keywords**"
      ],
      "metadata": {
        "id": "qmYmKm_1EYH-"
      }
    },
    {
      "cell_type": "code",
      "source": [
        "!pip install SpeechRecognition\n",
        "import speech_recognition as sr\n",
        "from moviepy.editor import VideoFileClip\n",
        "\n",
        "def extract_audio(video_file_path, output_audio_path):\n",
        "    # Load the video file\n",
        "    video = VideoFileClip(video_file_path)\n",
        "\n",
        "    # Extract audio\n",
        "    audio = video.audio\n",
        "\n",
        "    # Write audio to file in WAV format\n",
        "    audio.write_audiofile(output_audio_path, codec='pcm_s16le')\n",
        "\n",
        "    # Close the video file\n",
        "    video.close()\n",
        "\n",
        "    # Return the path of the output audio file\n",
        "    return output_audio_path\n",
        "\n",
        "\n",
        "# Define the function to transcribe audio\n",
        "def transcribe_audio(audio_file_path):\n",
        "    recognizer = sr.Recognizer()\n",
        "    with sr.AudioFile(audio_file_path) as audio_file:\n",
        "        audio_data = recognizer.record(audio_file)\n",
        "        transcript = recognizer.recognize_google(audio_data)\n",
        "    return transcript\n",
        "\n",
        "\n",
        "transcript=[]\n",
        "\n",
        "# Call the transcribe_audio function to get the transcript and append it to the list\n",
        "transcript.append(transcribe_audio(extract_audio('/content/a.mp4', \"/content/h.wav\")))\n",
        "transcript.append(transcribe_audio(extract_audio('/content/a1.mp4', \"/content/h1.wav\")))\n",
        "transcript.append(transcribe_audio(extract_audio('/content/a2.mp4', \"/content/h2.wav\")))\n",
        "transcript.append(transcribe_audio(extract_audio('/content/a3.mp4', \"/content/h3.wav\")))\n",
        "transcript.append(transcribe_audio(extract_audio('/content/a4.mp4', \"/content/h4.wav\")))\n",
        "transcript.append(transcribe_audio(extract_audio('/content/a5.mp4', \"/content/h5.wav\")))\n",
        "transcript.append(transcribe_audio(extract_audio('/content/a6.mp4', \"/content/h6.wav\")))\n"
      ],
      "metadata": {
        "colab": {
          "base_uri": "https://localhost:8080/"
        },
        "id": "_An06Ug8NDov",
        "outputId": "957a72b6-b4a9-42fe-95bc-1ccaf16c7773"
      },
      "execution_count": null,
      "outputs": [
        {
          "output_type": "stream",
          "name": "stdout",
          "text": [
            "Collecting SpeechRecognition\n",
            "  Downloading SpeechRecognition-3.10.3-py2.py3-none-any.whl (32.8 MB)\n",
            "\u001b[2K     \u001b[90m━━━━━━━━━━━━━━━━━━━━━━━━━━━━━━━━━━━━━━━━\u001b[0m \u001b[32m32.8/32.8 MB\u001b[0m \u001b[31m28.8 MB/s\u001b[0m eta \u001b[36m0:00:00\u001b[0m\n",
            "\u001b[?25hRequirement already satisfied: requests>=2.26.0 in /usr/local/lib/python3.10/dist-packages (from SpeechRecognition) (2.31.0)\n",
            "Requirement already satisfied: typing-extensions in /usr/local/lib/python3.10/dist-packages (from SpeechRecognition) (4.11.0)\n",
            "Requirement already satisfied: charset-normalizer<4,>=2 in /usr/local/lib/python3.10/dist-packages (from requests>=2.26.0->SpeechRecognition) (3.3.2)\n",
            "Requirement already satisfied: idna<4,>=2.5 in /usr/local/lib/python3.10/dist-packages (from requests>=2.26.0->SpeechRecognition) (3.7)\n",
            "Requirement already satisfied: urllib3<3,>=1.21.1 in /usr/local/lib/python3.10/dist-packages (from requests>=2.26.0->SpeechRecognition) (2.0.7)\n",
            "Requirement already satisfied: certifi>=2017.4.17 in /usr/local/lib/python3.10/dist-packages (from requests>=2.26.0->SpeechRecognition) (2024.2.2)\n",
            "Installing collected packages: SpeechRecognition\n",
            "Successfully installed SpeechRecognition-3.10.3\n",
            "MoviePy - Writing audio in /content/h.wav\n"
          ]
        },
        {
          "output_type": "stream",
          "name": "stderr",
          "text": []
        },
        {
          "output_type": "stream",
          "name": "stdout",
          "text": [
            "MoviePy - Done.\n",
            "MoviePy - Writing audio in /content/h1.wav\n"
          ]
        },
        {
          "output_type": "stream",
          "name": "stderr",
          "text": []
        },
        {
          "output_type": "stream",
          "name": "stdout",
          "text": [
            "MoviePy - Done.\n",
            "MoviePy - Writing audio in /content/h2.wav\n"
          ]
        },
        {
          "output_type": "stream",
          "name": "stderr",
          "text": []
        },
        {
          "output_type": "stream",
          "name": "stdout",
          "text": [
            "MoviePy - Done.\n",
            "MoviePy - Writing audio in /content/h3.wav\n"
          ]
        },
        {
          "output_type": "stream",
          "name": "stderr",
          "text": []
        },
        {
          "output_type": "stream",
          "name": "stdout",
          "text": [
            "MoviePy - Done.\n",
            "MoviePy - Writing audio in /content/h4.wav\n"
          ]
        },
        {
          "output_type": "stream",
          "name": "stderr",
          "text": []
        },
        {
          "output_type": "stream",
          "name": "stdout",
          "text": [
            "MoviePy - Done.\n",
            "MoviePy - Writing audio in /content/h5.wav\n"
          ]
        },
        {
          "output_type": "stream",
          "name": "stderr",
          "text": []
        },
        {
          "output_type": "stream",
          "name": "stdout",
          "text": [
            "MoviePy - Done.\n",
            "MoviePy - Writing audio in /content/h6.wav\n"
          ]
        },
        {
          "output_type": "stream",
          "name": "stderr",
          "text": []
        },
        {
          "output_type": "stream",
          "name": "stdout",
          "text": [
            "MoviePy - Done.\n"
          ]
        }
      ]
    },
    {
      "cell_type": "code",
      "source": [
        "transcript"
      ],
      "metadata": {
        "colab": {
          "base_uri": "https://localhost:8080/"
        },
        "id": "mCNwLRmkw5ry",
        "outputId": "b97f60cd-7d2e-4775-bbd4-05749a7efe3f"
      },
      "execution_count": null,
      "outputs": [
        {
          "output_type": "execute_result",
          "data": {
            "text/plain": [
              "['the human voice warm up your voice actually do these first arms up deep breath in now very good finally let me just put this in contacts',\n",
              " \"fail big today's the beginning of the rest of your life so do what you feel passionate about take chances don't be afraid to fail there's an old IQ test was nine dots and you had to draw five lines with a pencil Within These nine dots without lifting the pencil the only way to do it was to go outside the box don't be afraid to think outside the box don't be afraid to fail big to dream big but remember dreams without goals I just dreams and they ultimately fuel disappointment so have dreams about and understand that to achieve these goals you must apply discipline and consistency\",\n",
              " \"the biggest poison in US is Regret but I think there are a lot of people that have dreams and aspirations of things that they always wanted to do but it wasn't the right time or they didn't have enough money or they didn't have enough experience it's never the right time experience and all the sudden you wake up and you're 70 and you're like God I wish I could have done it it's what you don't do that with you later on I get one shot at this life I don't want to go back and be like 777\",\n",
              " \"I had some Tantrums of saying I can't do this this is too hard when I was a kid and comparing myself to everyone else and saying I can't do it I'll never be able to do that my parents always sat me down and said look Nick yes there are things that you can't do but don't say I can't do it ask yourself how can I do it you know this way around it you can get from one side of the mountain to another but you don't just have to walk over it maybe you can go underneath it or around it or there's always ways in achieving the same goal the way that I've achieved in my life doesn't always look the same for everyone else but the key to that success was I believed in myself if someone else could do something then I could try and work out how it starts with believing in yourself\",\n",
              " \"you know rather than be scared by a jobless future I started to rethink it and I said I could really be excited by a jobless future because I can finally see a day and under 50 years when people don't have to work for pay because humans have labored for thousands of years slaves to their primarily in most of the world and soon they'll be able to do what they wanted to do what they were born to do before someone came along and said stop doing that you got to go on a living this is a whole new Renaissance that we may be able to see actually In Our Lifetime where humans can can can can do what they were born to do like art and dance and music and invention and caring for others and whatever it is that you want to do nothing to get in the way this is no you don't know it is a Utopia actually come to think of it and working together towards this goal this is actually a great idea when we look at it from this Vantage\",\n",
              " \"if you only have 24 hours in a day you are success is dependent upon how you use the 24th you got to hear me people talk about Oprah Winfrey you know Ted Turner Warren Buffett listen to me I don't care how much money you make you want to get 24 hours in a day and a difference between Oprah and the person that's broke hours wisely get 24 hours\",\n",
              " \"wow what an audience but if I'm being honest I don't care what you think of my talk I don't I care what the internet thinks of my talk because they're the ones who get it seen and get it shared and I think that's where most people get it wrong they're talking to you here instead of talking to you random person scrolling Facebook thanks for the click you see back in 2009 we all had these weird little things called attention spans yeah they're gone they're gone I'm trying to think of the last time I watched an 18 minute timer for 44 seconds right now that means we got time for one final joke why are balloons so expensive and PlayStation\"]"
            ]
          },
          "metadata": {},
          "execution_count": 2
        }
      ]
    },
    {
      "cell_type": "code",
      "source": [
        "from sklearn.feature_extraction.text import TfidfVectorizer\n",
        "from nltk.corpus import stopwords\n",
        "from nltk.tokenize import word_tokenize\n",
        "from nltk.stem import WordNetLemmatizer\n",
        "import nltk\n",
        "nltk.download('wordnet')\n",
        "nltk.download('stopwords')\n",
        "nltk.download('punkt')\n",
        "\n",
        "# Preprocess the transcribed text\n",
        "stop_words = set(stopwords.words('english'))\n",
        "preprocessed_transcripts = []\n",
        "\n",
        "for text in transcript:\n",
        "    word_tokens = word_tokenize(text.lower())\n",
        "    filtered_words = [word for word in word_tokens if word.isalnum() and word not in stop_words]\n",
        "    preprocessed_transcripts.append(\" \".join(filtered_words))\n",
        "\n",
        "wordnet_lemmatizer = WordNetLemmatizer()\n",
        "\n",
        "lemmatized_transcripts = [' '.join([wordnet_lemmatizer.lemmatize(word) for word in word_tokenize(doc)]) for doc in preprocessed_transcripts]\n",
        "\n",
        "# Apply TF-IDF\n",
        "tfidf_vectorizer = TfidfVectorizer()\n",
        "tfidf_matrix = tfidf_vectorizer.fit_transform(lemmatized_transcripts).toarray()\n",
        "\n",
        "# Extract keywords\n",
        "feature_names = tfidf_vectorizer.get_feature_names_out()\n",
        "\n",
        "# Print TF-IDF matrix shape\n",
        "print(\"TF-IDF Matrix Shape:\", tfidf_matrix.shape)\n"
      ],
      "metadata": {
        "colab": {
          "base_uri": "https://localhost:8080/"
        },
        "id": "x9VGAaOCG8A8",
        "outputId": "da5419a7-d683-4ba6-c00a-3ff024a16c71"
      },
      "execution_count": null,
      "outputs": [
        {
          "output_type": "stream",
          "name": "stderr",
          "text": [
            "[nltk_data] Downloading package wordnet to /root/nltk_data...\n",
            "[nltk_data] Downloading package stopwords to /root/nltk_data...\n",
            "[nltk_data]   Package stopwords is already up-to-date!\n",
            "[nltk_data] Downloading package punkt to /root/nltk_data...\n",
            "[nltk_data]   Package punkt is already up-to-date!\n"
          ]
        },
        {
          "output_type": "stream",
          "name": "stdout",
          "text": [
            "TF-IDF Matrix Shape: (7, 223)\n"
          ]
        }
      ]
    },
    {
      "cell_type": "code",
      "source": [
        "#keywords\n",
        "print(feature_names)"
      ],
      "metadata": {
        "colab": {
          "base_uri": "https://localhost:8080/"
        },
        "id": "QPz-maG6Qadd",
        "outputId": "8388e511-a469-41da-f695-60d9dacbc9f3"
      },
      "execution_count": null,
      "outputs": [
        {
          "output_type": "stream",
          "name": "stdout",
          "text": [
            "['18' '2009' '24' '24th' '44' '50' '70' '777' 'able' 'achieve' 'achieved'\n",
            " 'achieving' 'actually' 'afraid' 'along' 'always' 'another' 'apply' 'arm'\n",
            " 'around' 'art' 'ask' 'aspiration' 'attention' 'audience' 'back' 'balloon'\n",
            " 'beginning' 'believed' 'believing' 'big' 'biggest' 'born' 'box' 'breath'\n",
            " 'broke' 'buffett' 'ca' 'called' 'came' 'care' 'caring' 'chance' 'click'\n",
            " 'come' 'comparing' 'consistency' 'contact' 'could' 'dance' 'day' 'deep'\n",
            " 'dependent' 'difference' 'disappointment' 'discipline' 'done' 'dot'\n",
            " 'draw' 'dream' 'else' 'enough' 'everyone' 'excited' 'expensive'\n",
            " 'experience' 'facebook' 'fail' 'feel' 'final' 'finally' 'first' 'five'\n",
            " 'fuel' 'future' 'get' 'go' 'goal' 'god' 'gone' 'good' 'got' 'great'\n",
            " 'hard' 'hear' 'honest' 'hour' 'human' 'idea' 'instead' 'internet'\n",
            " 'invention' 'iq' 'jobless' 'joke' 'key' 'kid' 'know' 'labored' 'last'\n",
            " 'later' 'let' 'life' 'lifetime' 'lifting' 'like' 'line' 'listen' 'little'\n",
            " 'living' 'look' 'lot' 'make' 'may' 'maybe' 'mean' 'minute' 'money'\n",
            " 'mountain' 'much' 'music' 'must' 'never' 'new' 'nick' 'nine' 'nothing'\n",
            " 'old' 'one' 'oprah' 'others' 'outside' 'parent' 'passionate' 'pay'\n",
            " 'pencil' 'people' 'person' 'playstation' 'poison' 'primarily' 'put'\n",
            " 'random' 'rather' 'really' 'regret' 'remember' 'renaissance' 'rest'\n",
            " 'rethink' 'right' 'said' 'sat' 'say' 'saying' 'scared' 'scrolling'\n",
            " 'second' 'see' 'seen' 'shared' 'shot' 'side' 'slave' 'someone'\n",
            " 'something' 'soon' 'span' 'start' 'started' 'stop' 'success' 'sudden'\n",
            " 'take' 'talk' 'talking' 'tantrum' 'ted' 'test' 'thanks' 'thing' 'think'\n",
            " 'thousand' 'time' 'timer' 'today' 'together' 'towards' 'try' 'trying'\n",
            " 'turner' 'ultimately' 'underneath' 'understand' 'upon' 'use' 'utopia'\n",
            " 'vantage' 'voice' 'wake' 'walk' 'want' 'wanted' 'warm' 'warren' 'watched'\n",
            " 'way' 'weird' 'whatever' 'whole' 'winfrey' 'wisely' 'wish' 'within'\n",
            " 'without' 'work' 'working' 'world' 'wow' 'wrong' 'yeah' 'year' 'yes']\n"
          ]
        }
      ]
    },
    {
      "cell_type": "code",
      "source": [
        "tfidf_matrix"
      ],
      "metadata": {
        "colab": {
          "base_uri": "https://localhost:8080/"
        },
        "id": "9vENWJK4Kr3e",
        "outputId": "39e691f2-117d-43d2-86c5-ac80cf3c2953"
      },
      "execution_count": null,
      "outputs": [
        {
          "output_type": "execute_result",
          "data": {
            "text/plain": [
              "array([[0.        , 0.        , 0.        , ..., 0.        , 0.        ,\n",
              "        0.        ],\n",
              "       [0.        , 0.        , 0.        , ..., 0.        , 0.        ,\n",
              "        0.        ],\n",
              "       [0.        , 0.        , 0.        , ..., 0.        , 0.        ,\n",
              "        0.        ],\n",
              "       ...,\n",
              "       [0.        , 0.        , 0.        , ..., 0.        , 0.21951545,\n",
              "        0.        ],\n",
              "       [0.        , 0.        , 0.40728439, ..., 0.        , 0.        ,\n",
              "        0.        ],\n",
              "       [0.12392316, 0.12392316, 0.        , ..., 0.12392316, 0.        ,\n",
              "        0.        ]])"
            ]
          },
          "metadata": {},
          "execution_count": 7
        }
      ]
    },
    {
      "cell_type": "code",
      "source": [
        "tfidf_vectorizer.idf_"
      ],
      "metadata": {
        "colab": {
          "base_uri": "https://localhost:8080/"
        },
        "id": "x4eQOPXyPdqA",
        "outputId": "0b41e61e-b7ad-43aa-b15b-4df14e834146"
      },
      "execution_count": null,
      "outputs": [
        {
          "output_type": "execute_result",
          "data": {
            "text/plain": [
              "array([2.38629436, 2.38629436, 2.38629436, 2.38629436, 2.38629436,\n",
              "       2.38629436, 2.38629436, 2.38629436, 1.98082925, 2.38629436,\n",
              "       2.38629436, 2.38629436, 1.98082925, 2.38629436, 2.38629436,\n",
              "       1.98082925, 2.38629436, 2.38629436, 2.38629436, 2.38629436,\n",
              "       2.38629436, 2.38629436, 2.38629436, 2.38629436, 2.38629436,\n",
              "       1.98082925, 2.38629436, 2.38629436, 2.38629436, 2.38629436,\n",
              "       2.38629436, 2.38629436, 2.38629436, 2.38629436, 2.38629436,\n",
              "       2.38629436, 2.38629436, 2.38629436, 2.38629436, 2.38629436,\n",
              "       1.98082925, 2.38629436, 2.38629436, 2.38629436, 2.38629436,\n",
              "       2.38629436, 2.38629436, 2.38629436, 1.69314718, 2.38629436,\n",
              "       1.98082925, 2.38629436, 2.38629436, 2.38629436, 2.38629436,\n",
              "       2.38629436, 2.38629436, 2.38629436, 2.38629436, 1.98082925,\n",
              "       2.38629436, 2.38629436, 2.38629436, 2.38629436, 2.38629436,\n",
              "       2.38629436, 2.38629436, 2.38629436, 2.38629436, 2.38629436,\n",
              "       1.98082925, 2.38629436, 2.38629436, 2.38629436, 2.38629436,\n",
              "       1.28768207, 1.47000363, 1.69314718, 2.38629436, 2.38629436,\n",
              "       2.38629436, 1.69314718, 2.38629436, 2.38629436, 2.38629436,\n",
              "       2.38629436, 2.38629436, 1.98082925, 2.38629436, 2.38629436,\n",
              "       2.38629436, 2.38629436, 2.38629436, 2.38629436, 2.38629436,\n",
              "       2.38629436, 2.38629436, 1.69314718, 2.38629436, 2.38629436,\n",
              "       2.38629436, 2.38629436, 1.69314718, 2.38629436, 2.38629436,\n",
              "       1.98082925, 2.38629436, 2.38629436, 2.38629436, 2.38629436,\n",
              "       1.98082925, 2.38629436, 2.38629436, 2.38629436, 2.38629436,\n",
              "       2.38629436, 2.38629436, 1.98082925, 2.38629436, 2.38629436,\n",
              "       2.38629436, 2.38629436, 1.98082925, 2.38629436, 2.38629436,\n",
              "       2.38629436, 2.38629436, 2.38629436, 1.69314718, 2.38629436,\n",
              "       2.38629436, 2.38629436, 2.38629436, 2.38629436, 2.38629436,\n",
              "       2.38629436, 1.47000363, 1.98082925, 2.38629436, 2.38629436,\n",
              "       2.38629436, 2.38629436, 2.38629436, 2.38629436, 2.38629436,\n",
              "       2.38629436, 2.38629436, 2.38629436, 2.38629436, 2.38629436,\n",
              "       1.98082925, 1.98082925, 2.38629436, 2.38629436, 2.38629436,\n",
              "       2.38629436, 2.38629436, 2.38629436, 1.98082925, 2.38629436,\n",
              "       2.38629436, 2.38629436, 2.38629436, 2.38629436, 1.98082925,\n",
              "       2.38629436, 2.38629436, 2.38629436, 2.38629436, 2.38629436,\n",
              "       2.38629436, 1.98082925, 2.38629436, 2.38629436, 1.98082925,\n",
              "       2.38629436, 2.38629436, 2.38629436, 2.38629436, 2.38629436,\n",
              "       1.69314718, 1.47000363, 2.38629436, 1.98082925, 2.38629436,\n",
              "       2.38629436, 2.38629436, 2.38629436, 2.38629436, 2.38629436,\n",
              "       2.38629436, 2.38629436, 2.38629436, 2.38629436, 2.38629436,\n",
              "       2.38629436, 2.38629436, 2.38629436, 2.38629436, 2.38629436,\n",
              "       2.38629436, 1.69314718, 1.98082925, 2.38629436, 2.38629436,\n",
              "       2.38629436, 1.69314718, 2.38629436, 2.38629436, 2.38629436,\n",
              "       2.38629436, 2.38629436, 2.38629436, 2.38629436, 2.38629436,\n",
              "       1.98082925, 2.38629436, 2.38629436, 2.38629436, 2.38629436,\n",
              "       2.38629436, 2.38629436, 2.38629436])"
            ]
          },
          "metadata": {},
          "execution_count": 8
        }
      ]
    }
  ]
}