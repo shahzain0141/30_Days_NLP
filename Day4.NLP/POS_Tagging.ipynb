{
  "nbformat": 4,
  "nbformat_minor": 0,
  "metadata": {
    "colab": {
      "provenance": []
    },
    "kernelspec": {
      "name": "python3",
      "display_name": "Python 3"
    },
    "language_info": {
      "name": "python"
    }
  },
  "cells": [
    {
      "cell_type": "code",
      "execution_count": 1,
      "metadata": {
        "id": "GFHPCxJBD8f1"
      },
      "outputs": [],
      "source": [
        "import spacy\n",
        "nlp = spacy.load('en_core_web_sm')"
      ]
    },
    {
      "cell_type": "code",
      "source": [
        "def pos(text):\n",
        "  doc = nlp(text)\n",
        "  print(doc.text)\n",
        "  for word in doc:\n",
        "    print(word.text,\"->\", word.pos_,word.tag_,spacy.explain(word.tag_))"
      ],
      "metadata": {
        "id": "bCWv7vF9EZWB"
      },
      "execution_count": 2,
      "outputs": []
    },
    {
      "cell_type": "code",
      "source": [
        "pos(\"Let us go home\")"
      ],
      "metadata": {
        "colab": {
          "base_uri": "https://localhost:8080/"
        },
        "id": "yJSB0DzwEbu3",
        "outputId": "6212e8d4-ae78-4f2e-c295-e4bfe4efe279"
      },
      "execution_count": 3,
      "outputs": [
        {
          "output_type": "stream",
          "name": "stdout",
          "text": [
            "Let us go home\n",
            "Let -> VERB VB verb, base form\n",
            "us -> PRON PRP pronoun, personal\n",
            "go -> VERB VB verb, base form\n",
            "home -> ADV RB adverb\n"
          ]
        }
      ]
    },
    {
      "cell_type": "code",
      "source": [
        "pos(\"Leave me alone\")"
      ],
      "metadata": {
        "colab": {
          "base_uri": "https://localhost:8080/"
        },
        "id": "ZcSPCdpFEi_r",
        "outputId": "c0be1512-cf14-4d85-cb92-a216d5e2336b"
      },
      "execution_count": 4,
      "outputs": [
        {
          "output_type": "stream",
          "name": "stdout",
          "text": [
            "Leave me alone\n",
            "Leave -> VERB VB verb, base form\n",
            "me -> PRON PRP pronoun, personal\n",
            "alone -> ADV RB adverb\n"
          ]
        }
      ]
    }
  ]
}