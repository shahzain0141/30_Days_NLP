{
  "nbformat": 4,
  "nbformat_minor": 0,
  "metadata": {
    "colab": {
      "provenance": []
    },
    "kernelspec": {
      "name": "python3",
      "display_name": "Python 3"
    },
    "language_info": {
      "name": "python"
    }
  },
  "cells": [
    {
      "cell_type": "code",
      "execution_count": 1,
      "metadata": {
        "colab": {
          "base_uri": "https://localhost:8080/"
        },
        "id": "4HqComQbVzDK",
        "outputId": "4492bce7-27eb-4692-fcd9-6fdffecd63ed"
      },
      "outputs": [
        {
          "output_type": "stream",
          "name": "stdout",
          "text": [
            "Model: \"model\"\n",
            "__________________________________________________________________________________________________\n",
            " Layer (type)                Output Shape                 Param #   Connected to                  \n",
            "==================================================================================================\n",
            " input_1 (InputLayer)        [(None, None)]               0         []                            \n",
            "                                                                                                  \n",
            " input_2 (InputLayer)        [(None, None)]               0         []                            \n",
            "                                                                                                  \n",
            " embedding (Embedding)       (None, None, 256)            12800     ['input_1[0][0]']             \n",
            "                                                                                                  \n",
            " embedding_1 (Embedding)     (None, None, 256)            12800     ['input_2[0][0]']             \n",
            "                                                                                                  \n",
            " lstm (LSTM)                 [(None, 256),                525312    ['embedding[0][0]']           \n",
            "                              (None, 256),                                                        \n",
            "                              (None, 256)]                                                        \n",
            "                                                                                                  \n",
            " lstm_1 (LSTM)               [(None, None, 256),          525312    ['embedding_1[0][0]',         \n",
            "                              (None, 256),                           'lstm[0][1]',                \n",
            "                              (None, 256)]                           'lstm[0][2]']                \n",
            "                                                                                                  \n",
            " dense (Dense)               (None, None, 50)             12850     ['lstm_1[0][0]']              \n",
            "                                                                                                  \n",
            "==================================================================================================\n",
            "Total params: 1089074 (4.15 MB)\n",
            "Trainable params: 1089074 (4.15 MB)\n",
            "Non-trainable params: 0 (0.00 Byte)\n",
            "__________________________________________________________________________________________________\n",
            "Epoch 1/10\n",
            "125/125 [==============================] - 32s 203ms/step - loss: 3.6215 - accuracy: 0.1071 - val_loss: 3.5283 - val_accuracy: 0.1163\n",
            "Epoch 2/10\n",
            "125/125 [==============================] - 23s 183ms/step - loss: 3.6302 - accuracy: 0.1013 - val_loss: 3.5548 - val_accuracy: 0.1072\n",
            "Epoch 3/10\n",
            "125/125 [==============================] - 22s 175ms/step - loss: 3.5408 - accuracy: 0.1131 - val_loss: 3.5241 - val_accuracy: 0.1159\n",
            "Epoch 4/10\n",
            "125/125 [==============================] - 24s 190ms/step - loss: 3.5131 - accuracy: 0.1195 - val_loss: 3.5115 - val_accuracy: 0.1195\n",
            "Epoch 5/10\n",
            "125/125 [==============================] - 22s 180ms/step - loss: 3.5075 - accuracy: 0.1212 - val_loss: 3.5087 - val_accuracy: 0.1185\n",
            "Epoch 6/10\n",
            "125/125 [==============================] - 22s 178ms/step - loss: 3.5043 - accuracy: 0.1213 - val_loss: 3.5084 - val_accuracy: 0.1177\n",
            "Epoch 7/10\n",
            "125/125 [==============================] - 24s 192ms/step - loss: 3.5023 - accuracy: 0.1221 - val_loss: 3.5083 - val_accuracy: 0.1185\n",
            "Epoch 8/10\n",
            "125/125 [==============================] - 22s 174ms/step - loss: 3.5007 - accuracy: 0.1226 - val_loss: 3.5089 - val_accuracy: 0.1199\n",
            "Epoch 9/10\n",
            "125/125 [==============================] - 23s 186ms/step - loss: 3.4983 - accuracy: 0.1237 - val_loss: 3.5091 - val_accuracy: 0.1179\n",
            "Epoch 10/10\n",
            "125/125 [==============================] - 22s 174ms/step - loss: 3.4952 - accuracy: 0.1243 - val_loss: 3.5123 - val_accuracy: 0.1181\n"
          ]
        },
        {
          "output_type": "execute_result",
          "data": {
            "text/plain": [
              "<keras.src.callbacks.History at 0x7b4b244b5480>"
            ]
          },
          "metadata": {},
          "execution_count": 1
        }
      ],
      "source": [
        "import tensorflow as tf\n",
        "from tensorflow.keras.models import Model\n",
        "from tensorflow.keras.layers import Input, LSTM, Dense, Embedding\n",
        "import numpy as np\n",
        "\n",
        "#Data\n",
        "def generate_data(num_samples, max_seq_length, vocab_size):\n",
        "    X = np.random.randint(1, vocab_size, (num_samples, max_seq_length))\n",
        "    y = np.random.randint(1, vocab_size, (num_samples, max_seq_length))\n",
        "    return X, y\n",
        "\n",
        "num_samples = 10000\n",
        "max_seq_length = 10\n",
        "vocab_size = 50\n",
        "\n",
        "encoder_input_data, decoder_input_data = generate_data(num_samples, max_seq_length, vocab_size)\n",
        "decoder_target_data = np.roll(decoder_input_data, shift=-1, axis=1)\n",
        "decoder_target_data[:, -1] = 0\n",
        "\n",
        "#Seq2Seq Model\n",
        "latent_dim = 256\n",
        "\n",
        "#encoder\n",
        "encoder_inputs = Input(shape=(None,))\n",
        "encoder_embedding = Embedding(input_dim=vocab_size, output_dim=latent_dim)(encoder_inputs)\n",
        "encoder_lstm = LSTM(latent_dim, return_state=True)\n",
        "encoder_outputs, state_h, state_c = encoder_lstm(encoder_embedding)\n",
        "encoder_states = [state_h, state_c]\n",
        "\n",
        "#decoder\n",
        "decoder_inputs = Input(shape=(None,))\n",
        "decoder_embedding = Embedding(input_dim=vocab_size, output_dim=latent_dim)(decoder_inputs)\n",
        "decoder_lstm = LSTM(latent_dim, return_sequences=True, return_state=True)\n",
        "decoder_outputs, _, _ = decoder_lstm(decoder_embedding, initial_state=encoder_states)\n",
        "decoder_dense = Dense(vocab_size, activation='softmax')\n",
        "decoder_outputs = decoder_dense(decoder_outputs)\n",
        "\n",
        "#model\n",
        "model = Model([encoder_inputs, decoder_inputs], decoder_outputs)\n",
        "model.summary()\n",
        "\n",
        "#Compile\n",
        "model.compile(optimizer='adam', loss='sparse_categorical_crossentropy', metrics=['accuracy'])\n",
        "\n",
        "#Train\n",
        "model.fit([encoder_input_data, decoder_input_data], decoder_target_data,\n",
        "          batch_size=64,\n",
        "          epochs=10,\n",
        "          validation_split=0.2)\n"
      ]
    },
    {
      "cell_type": "code",
      "source": [
        "#Inference Setup\n",
        "\n",
        "# Encoder\n",
        "encoder_model = Model(encoder_inputs, encoder_states)\n",
        "\n",
        "# Decoder\n",
        "decoder_state_input_h = Input(shape=(latent_dim,))\n",
        "decoder_state_input_c = Input(shape=(latent_dim,))\n",
        "decoder_states_inputs = [decoder_state_input_h, decoder_state_input_c]\n",
        "\n",
        "decoder_lstm_outputs, state_h, state_c = decoder_lstm(\n",
        "    decoder_embedding, initial_state=decoder_states_inputs)\n",
        "decoder_states = [state_h, state_c]\n",
        "decoder_outputs = decoder_dense(decoder_lstm_outputs)\n",
        "\n",
        "decoder_model = Model(\n",
        "    [decoder_inputs] + decoder_states_inputs,\n",
        "    [decoder_outputs] + decoder_states)\n",
        "\n",
        "#Function to Decode Sequences\n",
        "def decode_sequence(input_seq):\n",
        "    states_value = encoder_model.predict(input_seq)\n",
        "    target_seq = np.zeros((1, 1))\n",
        "    target_seq[0, 0] = 1\n",
        "\n",
        "\n",
        "    decoded_sentence = []\n",
        "    stop_condition = False\n",
        "    while not stop_condition:\n",
        "        output_tokens, h, c = decoder_model.predict([target_seq] + states_value)\n",
        "        sampled_token_index = np.argmax(output_tokens[0, -1, :])\n",
        "        decoded_sentence.append(sampled_token_index)\n",
        "        if sampled_token_index == 0 or len(decoded_sentence) > max_seq_length:\n",
        "            stop_condition = True\n",
        "        target_seq = np.zeros((1, 1))\n",
        "        target_seq[0, 0] = sampled_token_index\n",
        "        states_value = [h, c]\n",
        "    return decoded_sentence"
      ],
      "metadata": {
        "id": "nc1bzzfoV9ZR"
      },
      "execution_count": 2,
      "outputs": []
    },
    {
      "cell_type": "code",
      "source": [
        "#Test\n",
        "print(\"encoded sentence:\",encoder_input_data[0:1])\n",
        "test_input = encoder_input_data[0:1]\n",
        "decoded_sentence = decode_sequence(test_input)\n",
        "print('Decoded sentence:', decoded_sentence)"
      ],
      "metadata": {
        "colab": {
          "base_uri": "https://localhost:8080/"
        },
        "id": "Rgl_FUlqX74V",
        "outputId": "c630aac4-7314-4dc8-90e5-a9db12ecc9fe"
      },
      "execution_count": 3,
      "outputs": [
        {
          "output_type": "stream",
          "name": "stdout",
          "text": [
            "encoded sentence: [[33 17 26 42 38 15 33  6 35 26]]\n",
            "1/1 [==============================] - 1s 547ms/step\n",
            "1/1 [==============================] - 0s 495ms/step\n",
            "1/1 [==============================] - 0s 27ms/step\n",
            "1/1 [==============================] - 0s 29ms/step\n",
            "1/1 [==============================] - 0s 26ms/step\n",
            "1/1 [==============================] - 0s 45ms/step\n",
            "1/1 [==============================] - 0s 41ms/step\n",
            "1/1 [==============================] - 0s 47ms/step\n",
            "1/1 [==============================] - 0s 41ms/step\n",
            "1/1 [==============================] - 0s 38ms/step\n",
            "1/1 [==============================] - 0s 41ms/step\n",
            "Decoded sentence: [35, 35, 47, 10, 22, 34, 22, 34, 38, 0]\n"
          ]
        }
      ]
    }
  ]
}